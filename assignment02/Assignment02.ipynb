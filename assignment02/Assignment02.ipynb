{
 "cells": [
  {
   "cell_type": "markdown",
   "id": "672aed5236bd8d50",
   "metadata": {},
   "source": [
    "## Install required library"
   ]
  },
  {
   "cell_type": "code",
   "execution_count": 1,
   "id": "d22337f7d82c9d14",
   "metadata": {
    "ExecuteTime": {
     "end_time": "2023-12-24T09:00:37.266487800Z",
     "start_time": "2023-12-24T09:00:19.180619400Z"
    }
   },
   "outputs": [
    {
     "name": "stdout",
     "output_type": "stream",
     "text": [
      "Requirement already satisfied: nltk in c:\\users\\phi\\anaconda3\\lib\\site-packages (3.8.1)\n",
      "Requirement already satisfied: click in c:\\users\\phi\\anaconda3\\lib\\site-packages (from nltk) (8.0.4)\n",
      "Requirement already satisfied: joblib in c:\\users\\phi\\anaconda3\\lib\\site-packages (from nltk) (1.2.0)\n",
      "Requirement already satisfied: regex>=2021.8.3 in c:\\users\\phi\\anaconda3\\lib\\site-packages (from nltk) (2022.7.9)\n",
      "Requirement already satisfied: tqdm in c:\\users\\phi\\anaconda3\\lib\\site-packages (from nltk) (4.65.0)\n",
      "Requirement already satisfied: colorama in c:\\users\\phi\\anaconda3\\lib\\site-packages (from click->nltk) (0.4.6)\n",
      "Requirement already satisfied: pandas in c:\\users\\phi\\anaconda3\\lib\\site-packages (2.0.3)\n",
      "Requirement already satisfied: python-dateutil>=2.8.2 in c:\\users\\phi\\anaconda3\\lib\\site-packages (from pandas) (2.8.2)\n",
      "Requirement already satisfied: pytz>=2020.1 in c:\\users\\phi\\anaconda3\\lib\\site-packages (from pandas) (2023.3.post1)\n",
      "Requirement already satisfied: tzdata>=2022.1 in c:\\users\\phi\\anaconda3\\lib\\site-packages (from pandas) (2023.3)\n",
      "Requirement already satisfied: numpy>=1.21.0 in c:\\users\\phi\\anaconda3\\lib\\site-packages (from pandas) (1.24.3)\n",
      "Requirement already satisfied: six>=1.5 in c:\\users\\phi\\anaconda3\\lib\\site-packages (from python-dateutil>=2.8.2->pandas) (1.16.0)\n",
      "Requirement already satisfied: scikit-learn in c:\\users\\phi\\anaconda3\\lib\\site-packages (1.3.0)\n",
      "Requirement already satisfied: numpy>=1.17.3 in c:\\users\\phi\\anaconda3\\lib\\site-packages (from scikit-learn) (1.24.3)\n",
      "Requirement already satisfied: scipy>=1.5.0 in c:\\users\\phi\\anaconda3\\lib\\site-packages (from scikit-learn) (1.11.1)\n",
      "Requirement already satisfied: joblib>=1.1.1 in c:\\users\\phi\\anaconda3\\lib\\site-packages (from scikit-learn) (1.2.0)\n",
      "Requirement already satisfied: threadpoolctl>=2.0.0 in c:\\users\\phi\\anaconda3\\lib\\site-packages (from scikit-learn) (2.2.0)\n"
     ]
    }
   ],
   "source": [
    "!pip install nltk\n",
    "!pip install pandas\n",
    "!pip install scikit-learn"
   ]
  },
  {
   "cell_type": "markdown",
   "id": "85bfd2761c789dcc",
   "metadata": {},
   "source": [
    "## Import library and move_reviews dataset"
   ]
  },
  {
   "cell_type": "code",
   "execution_count": 2,
   "id": "initial_id",
   "metadata": {
    "ExecuteTime": {
     "end_time": "2023-12-24T09:01:20.714906400Z",
     "start_time": "2023-12-24T09:01:20.709921Z"
    }
   },
   "outputs": [],
   "source": [
    "import nltk\n",
    "from nltk.corpus import movie_reviews\n",
    "import pandas as pd\n",
    "import sklearn as sk\n",
    "import random"
   ]
  },
  {
   "cell_type": "code",
   "execution_count": 5,
   "id": "11442024e66bc243",
   "metadata": {
    "ExecuteTime": {
     "end_time": "2023-12-24T09:10:54.343473300Z",
     "start_time": "2023-12-24T09:10:54.338583500Z"
    }
   },
   "outputs": [
    {
     "name": "stderr",
     "output_type": "stream",
     "text": [
      "[nltk_data] Downloading package movie_reviews to\n",
      "[nltk_data]     C:\\Users\\Phi\\AppData\\Roaming\\nltk_data...\n",
      "[nltk_data]   Package movie_reviews is already up-to-date!\n"
     ]
    },
    {
     "data": {
      "text/plain": [
       "True"
      ]
     },
     "execution_count": 5,
     "metadata": {},
     "output_type": "execute_result"
    }
   ],
   "source": [
    "# Download movie reviews datasets\n",
    "import nltk\n",
    "nltk.download('movie_reviews')"
   ]
  },
  {
   "cell_type": "markdown",
   "id": "510713c67ad736f9",
   "metadata": {},
   "source": [
    "## A list of the 30 features that the classifier finds to be most informative"
   ]
  },
  {
   "cell_type": "code",
   "execution_count": 6,
   "id": "fd6dc57cc333e6cd",
   "metadata": {
    "ExecuteTime": {
     "end_time": "2023-12-24T09:10:58.704745200Z",
     "start_time": "2023-12-24T09:10:56.458106Z"
    }
   },
   "outputs": [
    {
     "data": {
      "text/plain": [
       "['plot',\n",
       " ':',\n",
       " 'two',\n",
       " 'teen',\n",
       " 'couples',\n",
       " 'go',\n",
       " 'to',\n",
       " 'a',\n",
       " 'church',\n",
       " 'party',\n",
       " ',',\n",
       " 'drink',\n",
       " 'and',\n",
       " 'then',\n",
       " 'drive']"
      ]
     },
     "execution_count": 6,
     "metadata": {},
     "output_type": "execute_result"
    }
   ],
   "source": [
    "# Find the top 1000 words in all movie reviews\n",
    "\n",
    "words = movie_reviews.words()\n",
    "all_words = nltk.FreqDist(w.lower() for w in words) # sorted most popular {words: freq}\n",
    "word_features = list(all_words.keys())[:1000] # more words slows down the training\n",
    "\n",
    "# example of results\n",
    "word_features[:15]"
   ]
  },
  {
   "cell_type": "code",
   "execution_count": 7,
   "id": "1f02df84028cecbe",
   "metadata": {
    "ExecuteTime": {
     "end_time": "2023-12-24T09:11:23.183638500Z",
     "start_time": "2023-12-24T09:11:20.698930900Z"
    }
   },
   "outputs": [],
   "source": [
    "# build list of words and their positive/negative classification from the reviews\n",
    "\n",
    "documents = [(list(movie_reviews.words(fileid)), category)\n",
    "             for category in movie_reviews.categories()\n",
    "             for fileid in movie_reviews.fileids(category)]"
   ]
  },
  {
   "cell_type": "code",
   "execution_count": 8,
   "id": "86ac17884c7bb50",
   "metadata": {
    "ExecuteTime": {
     "end_time": "2023-12-24T09:11:23.877348500Z",
     "start_time": "2023-12-24T09:11:23.186631300Z"
    }
   },
   "outputs": [],
   "source": [
    "# Create feature set/class for each review against list of top 1000 words\n",
    "# Extract words from document\n",
    "\n",
    "def doc_features(document): # [_document-classify-extractor]\n",
    "    doc_words = set(document) # [_document-classify-set]\n",
    "    features = {}\n",
    "    for word in word_features:\n",
    "        features['contains({})'.format(word)] = (word in doc_words)\n",
    "    return features\n",
    "\n",
    "featuresets = [(doc_features(d), c) for (d,c) in documents]"
   ]
  },
  {
   "cell_type": "code",
   "execution_count": 9,
   "id": "439746fb9c18124f",
   "metadata": {
    "ExecuteTime": {
     "end_time": "2023-12-24T09:11:24.959686700Z",
     "start_time": "2023-12-24T09:11:24.923092900Z"
    }
   },
   "outputs": [],
   "source": [
    "# Split to create training and test data\n",
    "train_set = featuresets[100:]\n",
    "test_set = featuresets[:100]"
   ]
  },
  {
   "cell_type": "code",
   "execution_count": 10,
   "id": "43b0682fe4633496",
   "metadata": {
    "ExecuteTime": {
     "end_time": "2023-12-24T09:11:27.778778500Z",
     "start_time": "2023-12-24T09:11:26.521798700Z"
    }
   },
   "outputs": [],
   "source": [
    "# Train using Naive Bayes classifier\n",
    "random.seed(4321)\n",
    "classifier = nltk.NaiveBayesClassifier.train(train_set)"
   ]
  },
  {
   "cell_type": "code",
   "execution_count": 11,
   "id": "966e46cb99ef3c5f",
   "metadata": {
    "ExecuteTime": {
     "end_time": "2023-12-24T09:11:29.207739100Z",
     "start_time": "2023-12-24T09:11:29.185838900Z"
    }
   },
   "outputs": [
    {
     "name": "stdout",
     "output_type": "stream",
     "text": [
      "Most Informative Features\n",
      "        contains(turkey) = True              neg : pos    =      6.5 : 1.0\n",
      "         contains(kudos) = True              pos : neg    =      5.9 : 1.0\n",
      "        contains(wasted) = True              neg : pos    =      5.6 : 1.0\n",
      "         contains(awful) = True              neg : pos    =      5.4 : 1.0\n",
      "        contains(poorly) = True              neg : pos    =      4.9 : 1.0\n",
      "       contains(bronson) = True              neg : pos    =      4.8 : 1.0\n",
      "         contains(bland) = True              neg : pos    =      4.2 : 1.0\n",
      "      contains(thrilled) = True              pos : neg    =      4.1 : 1.0\n",
      "       contains(runtime) = True              neg : pos    =      4.1 : 1.0\n",
      "     contains(underwood) = True              neg : pos    =      4.1 : 1.0\n",
      "     contains(stretched) = True              neg : pos    =      4.0 : 1.0\n",
      "     contains(anastasia) = True              pos : neg    =      3.9 : 1.0\n",
      "          contains(dull) = True              neg : pos    =      3.8 : 1.0\n",
      "       contains(jumbled) = True              neg : pos    =      3.8 : 1.0\n",
      "        contains(sexist) = True              neg : pos    =      3.8 : 1.0\n",
      "          contains(mess) = True              neg : pos    =      3.6 : 1.0\n",
      "     contains(considers) = True              pos : neg    =      3.5 : 1.0\n",
      "        contains(robots) = True              pos : neg    =      3.5 : 1.0\n",
      "     contains(memorable) = True              pos : neg    =      3.4 : 1.0\n",
      "        contains(stable) = True              pos : neg    =      3.4 : 1.0\n",
      "        contains(brooke) = True              neg : pos    =      3.3 : 1.0\n",
      "      contains(reformed) = True              neg : pos    =      3.3 : 1.0\n",
      "          contains(skip) = True              neg : pos    =      3.3 : 1.0\n",
      "       contains(implied) = True              pos : neg    =      3.3 : 1.0\n",
      "       contains(ponders) = True              pos : neg    =      3.3 : 1.0\n",
      "     contains(remembers) = True              pos : neg    =      3.3 : 1.0\n",
      "          contains(stan) = True              pos : neg    =      3.3 : 1.0\n",
      "         contains(ranks) = True              pos : neg    =      3.3 : 1.0\n",
      "   contains(potentially) = True              neg : pos    =      3.2 : 1.0\n",
      " contains(understanding) = True              pos : neg    =      3.0 : 1.0\n"
     ]
    }
   ],
   "source": [
    "# 30 most imporant features\n",
    "classifier.show_most_informative_features(30)"
   ]
  },
  {
   "cell_type": "markdown",
   "id": "a04c0471e3aaba7",
   "metadata": {},
   "source": [
    "## Can you explain why these particular features are informative? Do you find any of them surprising?\n",
    "#### Informative Features\n",
    "- Negative Sentiment:\n",
    "> - \"turkey,\" \"wasted,\" \"awful,\" \"poorly\": These directly express negative opinions about the movie's quality or experience.\n",
    "> - \"bronson,\" \"dull,\" \"jumbled\": These describe specific aspects of the movie that might contribute to negative feelings, like a bad performance, lack of excitement, or confusing plot.\n",
    "> - \"sexist,\" \"mess\": These address sensitive topics or chaotic storytelling, potentially leading to negative reactions.\n",
    "> - \"runtime,\" \"underwood\": Mentioning runtime indicates potential concerns about movie length or specific actors/directors, while \"underwood\" might be associated with negative opinions about actors often associated with bad movies.\n",
    "- Positive Sentiment:\n",
    "> - \"kudos,\" \"thrilled,\" \"memorable\": These directly express positive appreciation for the movie.\n",
    "> - \"robots,\" \"anastasia\": These might indicate specific genres or elements (e.g., sci-fi, animation) that resonate with certain viewers.\n",
    "> - \"considers,\" \"remembers,\" \"ponders\": These suggest the movie evoked deeper thought and reflection, potentially leading to positive engagement.\n",
    "> - \"stable,\" \"reformed\": These could describe character arcs or thematic elements that inspire positive feelings.\n",
    "#### Surprising Features:\n",
    "> - \"bland,\" \"stretched\": While negative, these might be subjective and depend on individual preferences for movie style or pacing.\n",
    "> - \"brooke,\" \"stan\": These seem specific to certain actors or fandoms, potentially indicating niche reactions.\n",
    "> - \"implied,\" \"ponders\": These are less explicit expressions of sentiment and might require further analysis to understand their true impact.\n",
    "##### Overall, the informative features highlight words that convey strong opinions or evoke specific emotions related to the movie experience. Some surprises stem from subjectivity or niche references, requiring deeper context or investigation."
   ]
  }
 ],
 "metadata": {
  "kernelspec": {
   "display_name": "Python 3 (ipykernel)",
   "language": "python",
   "name": "python3"
  },
  "language_info": {
   "codemirror_mode": {
    "name": "ipython",
    "version": 3
   },
   "file_extension": ".py",
   "mimetype": "text/x-python",
   "name": "python",
   "nbconvert_exporter": "python",
   "pygments_lexer": "ipython3",
   "version": "3.11.5"
  }
 },
 "nbformat": 4,
 "nbformat_minor": 5
}
