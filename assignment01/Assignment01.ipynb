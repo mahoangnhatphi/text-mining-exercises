{
 "cells": [
  {
   "cell_type": "markdown",
   "source": [
    "Write code that removes whitespace at the beginning and end of a string, and\n",
    "normalizes whitespace between words to be a single-space character.\n",
    "a. Do this task using split() and join().\n",
    "b. Do this task using regular expression substitutions."
   ],
   "metadata": {
    "collapsed": false
   },
   "id": "caf99ac1f4dcbd06"
  },
  {
   "cell_type": "markdown",
   "source": [
    "## a. Do this task using split() and join()."
   ],
   "metadata": {
    "collapsed": false
   },
   "id": "40535c3bf32c2353"
  },
  {
   "cell_type": "code",
   "outputs": [
    {
     "name": "stdout",
     "output_type": "stream",
     "text": [
      "Input:     This    is   a  sample   text.   \n",
      "Result:  This is a sample text.\n"
     ]
    }
   ],
   "source": [
    "def normalize_whitespace_split_join(input_string):\n",
    "    # Remove leading and trailing whitespaces\n",
    "    trimmed_string = input_string.strip()\n",
    "\n",
    "    # Normalize whitespace between words using split() and join()\n",
    "    normalized_string = ' '.join(trimmed_string.split())\n",
    "\n",
    "    return normalized_string\n",
    "\n",
    "\n",
    "# Example usage:\n",
    "input_text = \"   This    is   a  sample   text.   \"\n",
    "print('Input: ', input_text)\n",
    "result = normalize_whitespace_split_join(input_text)\n",
    "print('Result: ', result)"
   ],
   "metadata": {
    "collapsed": true,
    "ExecuteTime": {
     "end_time": "2023-12-26T16:05:55.373996400Z",
     "start_time": "2023-12-26T16:05:55.368556300Z"
    }
   },
   "id": "initial_id",
   "execution_count": 2
  },
  {
   "cell_type": "markdown",
   "source": [
    "## b. Do this task using regular expression substitutions."
   ],
   "metadata": {
    "collapsed": false
   },
   "id": "175834ca85d02dae"
  },
  {
   "cell_type": "code",
   "outputs": [
    {
     "name": "stdout",
     "output_type": "stream",
     "text": [
      "Input:     This    is   a  sample   text.   \n",
      "Result:  This is a sample text.\n"
     ]
    }
   ],
   "source": [
    "import re\n",
    "\n",
    "def normalize_whitespace_regex(input_string):\n",
    "    # Use regular expression to remove whitespace at the beginning and end\n",
    "    trimmed_string = re.sub(r'^\\s+|\\s+$', '', input_string)\n",
    "\n",
    "    # Normalize whitespace between words using regular expression substitutions\n",
    "    normalized_string = re.sub(r'\\s+', ' ', trimmed_string)\n",
    "\n",
    "    return normalized_string\n",
    "\n",
    "\n",
    "# Example usage:\n",
    "input_text = \"   This    is   a  sample   text.   \"\n",
    "print('Input: ', input_text)\n",
    "result = normalize_whitespace_regex(input_text)\n",
    "print('Result: ', result)"
   ],
   "metadata": {
    "collapsed": false,
    "ExecuteTime": {
     "end_time": "2023-12-26T16:06:23.711134700Z",
     "start_time": "2023-12-26T16:06:23.705817200Z"
    }
   },
   "id": "d0c4cc1394639c76",
   "execution_count": 3
  }
 ],
 "metadata": {
  "kernelspec": {
   "display_name": "Python 3",
   "language": "python",
   "name": "python3"
  },
  "language_info": {
   "codemirror_mode": {
    "name": "ipython",
    "version": 2
   },
   "file_extension": ".py",
   "mimetype": "text/x-python",
   "name": "python",
   "nbconvert_exporter": "python",
   "pygments_lexer": "ipython2",
   "version": "2.7.6"
  }
 },
 "nbformat": 4,
 "nbformat_minor": 5
}
