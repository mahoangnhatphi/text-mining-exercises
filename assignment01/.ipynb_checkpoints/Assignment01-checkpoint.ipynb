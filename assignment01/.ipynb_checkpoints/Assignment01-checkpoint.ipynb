{
 "cells": [
  {
   "cell_type": "markdown",
   "id": "caf99ac1f4dcbd06",
   "metadata": {},
   "source": [
    "# Assignment 1\n",
    "Write code that removes whitespace at the beginning and end of a string, and\n",
    "normalizes whitespace between words to be a single-space character.\n",
    "\n",
    "a. Do this task using split() and join().\n",
    "\n",
    "b. Do this task using regular expression substitutions."
   ]
  },
  {
   "cell_type": "markdown",
   "id": "40535c3bf32c2353",
   "metadata": {},
   "source": [
    "## a. Do this task using split() and join()."
   ]
  },
  {
   "cell_type": "code",
   "execution_count": 1,
   "id": "initial_id",
   "metadata": {
    "ExecuteTime": {
     "end_time": "2023-12-26T16:05:55.373996400Z",
     "start_time": "2023-12-26T16:05:55.368556300Z"
    }
   },
   "outputs": [
    {
     "name": "stdout",
     "output_type": "stream",
     "text": [
      "Input:     This    is   a  sample   text.   \n",
      "Result:  This is a sample text.\n"
     ]
    }
   ],
   "source": [
    "def normalize_whitespace_split_join(input_string):\n",
    "    # Remove leading and trailing whitespaces\n",
    "    trimmed_string = input_string.strip()\n",
    "\n",
    "    # Normalize whitespace between words using split() and join()\n",
    "    normalized_string = ' '.join(trimmed_string.split())\n",
    "\n",
    "    return normalized_string\n",
    "\n",
    "\n",
    "# Example usage:\n",
    "input_text = \"   This    is   a  sample   text.   \"\n",
    "print('Input: ', input_text)\n",
    "result = normalize_whitespace_split_join(input_text)\n",
    "print('Result: ', result)"
   ]
  },
  {
   "cell_type": "markdown",
   "id": "175834ca85d02dae",
   "metadata": {},
   "source": [
    "## b. Do this task using regular expression substitutions."
   ]
  },
  {
   "cell_type": "code",
   "execution_count": 2,
   "id": "d0c4cc1394639c76",
   "metadata": {
    "ExecuteTime": {
     "end_time": "2023-12-26T16:06:23.711134700Z",
     "start_time": "2023-12-26T16:06:23.705817200Z"
    }
   },
   "outputs": [
    {
     "name": "stdout",
     "output_type": "stream",
     "text": [
      "Input:     This    is   a  sample   text.   \n",
      "Result:  This is a sample text.\n"
     ]
    }
   ],
   "source": [
    "import re\n",
    "\n",
    "def normalize_whitespace_regex(input_string):\n",
    "    # Use regular expression to remove whitespace at the beginning and end\n",
    "    trimmed_string = re.sub(r'^\\s+|\\s+$', '', input_string)\n",
    "\n",
    "    # Normalize whitespace between words using regular expression substitutions\n",
    "    normalized_string = re.sub(r'\\s+', ' ', trimmed_string)\n",
    "\n",
    "    return normalized_string\n",
    "\n",
    "\n",
    "# Example usage:\n",
    "input_text = \"   This    is   a  sample   text.   \"\n",
    "print('Input: ', input_text)\n",
    "result = normalize_whitespace_regex(input_text)\n",
    "print('Result: ', result)"
   ]
  },
  {
   "cell_type": "markdown",
   "id": "1eca964c",
   "metadata": {},
   "source": [
    "### Conclusion:\n",
    "\n",
    "The goal is to remove leading and trailing whitespaces from the string while normalizing the whitespaces between words to a single space character.\n",
    "\n",
    "> a. Using split() and join(): This script employs a conventional approach using Python's split() and join() functions. This allows the string to be split into a list of words and then joined back together using a single space character. Although this solution may be considered simple, it is effective and easy to understand.\n",
    "\n",
    "> b. Using regular expression substitutions: Regular expressions are utilized to accomplish the task. This enables us to perform a series of substitutions, including removing leading and trailing whitespaces as well as normalizing the whitespaces between words. While this approach may be more complex, it is robust and flexible when dealing with more intricate string manipulation requirements.\n",
    "\n",
    "\n",
    "To sum up, both methods are capable of effectively completing the task, and the decision between them may rely on the particular context of the problem and performance criteria."
   ]
  }
 ],
 "metadata": {
  "kernelspec": {
   "display_name": "Python 3 (ipykernel)",
   "language": "python",
   "name": "python3"
  },
  "language_info": {
   "codemirror_mode": {
    "name": "ipython",
    "version": 3
   },
   "file_extension": ".py",
   "mimetype": "text/x-python",
   "name": "python",
   "nbconvert_exporter": "python",
   "pygments_lexer": "ipython3",
   "version": "3.11.5"
  }
 },
 "nbformat": 4,
 "nbformat_minor": 5
}
